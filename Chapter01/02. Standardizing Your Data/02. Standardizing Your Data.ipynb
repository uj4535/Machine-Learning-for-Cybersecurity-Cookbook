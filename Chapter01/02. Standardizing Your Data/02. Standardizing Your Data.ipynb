{
 "cells": [
  {
   "cell_type": "markdown",
   "metadata": {},
   "source": [
    "# 데이터 표준화\n",
    "## scikit-learn의 standardScaler 메서드를 사용하여 데이터를 표준화 "
   ]
  },
  {
   "cell_type": "code",
   "execution_count": 13,
   "metadata": {},
   "outputs": [],
   "source": [
    "import pandas as pd\n",
    "import numpy as np\n",
    "\n",
    "data = pd.read_csv(\"file_pe_headers.csv\", sep=\",\")"
   ]
  },
  {
   "cell_type": "code",
   "execution_count": 14,
   "metadata": {},
   "outputs": [
    {
     "name": "stdout",
     "output_type": "stream",
     "text": [
      "[[2.31170e+04 1.44000e+02 3.00000e+00 ... 7.78240e+04 7.37280e+04\n",
      "  0.00000e+00]\n",
      " [2.31170e+04 1.44000e+02 3.00000e+00 ... 2.94912e+05 0.00000e+00\n",
      "  3.46112e+05]\n",
      " [2.31170e+04 1.44000e+02 3.00000e+00 ... 4.09600e+04 0.00000e+00\n",
      "  0.00000e+00]\n",
      " ...\n",
      " [2.31170e+04 0.00000e+00 0.00000e+00 ... 6.14400e+04 0.00000e+00\n",
      "  0.00000e+00]\n",
      " [2.31170e+04 1.44000e+02 3.00000e+00 ... 1.02400e+05 0.00000e+00\n",
      "  0.00000e+00]\n",
      " [2.31170e+04 1.44000e+02 3.00000e+00 ... 5.57056e+05 0.00000e+00\n",
      "  0.00000e+00]]\n",
      "\n",
      "X 데이터셋 평균값: 463544226.32315534\n",
      "X 데이터셋 분산값: 2.7635598859085273e+21\n"
     ]
    }
   ],
   "source": [
    "# 데이터의 크기가 매우 크고 표준화되지 않아 특정 모델에서 제대로 동작하지 않을 수 있음\n",
    "X = data.drop([\"Name\", \"Malware\"], axis=1).to_numpy()\n",
    "print(X)\n",
    "print(\"\")\n",
    "print(f\"X 데이터셋 평균값: {np.mean(X)}\")\n",
    "print(f\"X 데이터셋 분산값: {np.var(X)}\")"
   ]
  },
  {
   "cell_type": "code",
   "execution_count": 21,
   "metadata": {},
   "outputs": [
    {
     "name": "stdout",
     "output_type": "stream",
     "text": [
      "[[ 0.         -0.03506542 -0.04751096 ... -0.07054894 -0.0198525\n",
      "  -0.04066791]\n",
      " [ 0.         -0.03506542 -0.04751096 ... -0.03849221 -0.02110877\n",
      "  -0.02469983]\n",
      " [ 0.         -0.03506542 -0.04751096 ... -0.07599254 -0.02110877\n",
      "  -0.04066791]\n",
      " ...\n",
      " [ 0.         -0.18093613 -0.04958686 ... -0.07296832 -0.02110877\n",
      "  -0.04066791]\n",
      " [ 0.         -0.03506542 -0.04751096 ... -0.06691988 -0.02110877\n",
      "  -0.04066791]\n",
      " [ 0.         -0.03506542 -0.04751096 ...  0.00021781 -0.02110877\n",
      "  -0.04066791]]\n",
      "\n",
      "X_standardized 데이터셋 평균값: -1.8351194826812613e-19\n",
      "X_standardized 데이터셋 분산값: 0.8961038961038963\n"
     ]
    }
   ],
   "source": [
    "# 평균, 분산 척도 재조정하는 데이터 전처리 과정\n",
    "from sklearn.preprocessing import StandardScaler\n",
    "\n",
    "X_standardized = StandardScaler().fit_transform(X)\n",
    "print(X_standardized)\n",
    "print(\"\")\n",
    "print(f\"X_standardized 데이터셋 평균값: {np.mean(X_standardized)}\") #0에 근사한 값으로 조정\n",
    "print(f\"X_standardized 데이터셋 분산값: {np.var(X_standardized)}\") #1에 근사한 값으로 조정"
   ]
  },
  {
   "cell_type": "code",
   "execution_count": 24,
   "metadata": {},
   "outputs": [
    {
     "name": "stdout",
     "output_type": "stream",
     "text": [
      "[[0.00000000e+00 2.42228502e-03 4.74683544e-05 ... 9.37174763e-05\n",
      "  2.53695699e-05 0.00000000e+00]\n",
      " [0.00000000e+00 2.42228502e-03 4.74683544e-05 ... 3.55139910e-04\n",
      "  0.00000000e+00 1.43263075e-04]\n",
      " [0.00000000e+00 2.42228502e-03 4.74683544e-05 ... 4.93249875e-05\n",
      "  0.00000000e+00 0.00000000e+00]\n",
      " ...\n",
      " [0.00000000e+00 0.00000000e+00 0.00000000e+00 ... 7.39874813e-05\n",
      "  0.00000000e+00 0.00000000e+00]\n",
      " [0.00000000e+00 2.42228502e-03 4.74683544e-05 ... 1.23312469e-04\n",
      "  0.00000000e+00 0.00000000e+00]\n",
      " [0.00000000e+00 2.42228502e-03 4.74683544e-05 ... 6.70819831e-04\n",
      "  0.00000000e+00 0.00000000e+00]]\n",
      "\n",
      "X_standardized2 데이터셋 평균값: 0.06003484426960598\n",
      "X_standardized2 데이터셋 분산값: 0.032774945810390504\n"
     ]
    }
   ],
   "source": [
    "from sklearn.preprocessing import MinMaxScaler\n",
    "scaler=MinMaxScaler()\n",
    "\n",
    "X_standardized2=scaler.fit_transform(X)\n",
    "print(X_standardized2)\n",
    "print(\"\")\n",
    "print(f\"X_standardized2 데이터셋 평균값: {np.mean(X_standardized2)}\") #0에 근사한 값으로 조정\n",
    "print(f\"X_standardized2 데이터셋 분산값: {np.var(X_standardized2)}\") #1에 근사한 값으로 조정"
   ]
  },
  {
   "cell_type": "code",
   "execution_count": null,
   "metadata": {},
   "outputs": [],
   "source": []
  }
 ],
 "metadata": {
  "kernelspec": {
   "display_name": "Python 3 (ipykernel)",
   "language": "python",
   "name": "python3"
  },
  "language_info": {
   "codemirror_mode": {
    "name": "ipython",
    "version": 3
   },
   "file_extension": ".py",
   "mimetype": "text/x-python",
   "name": "python",
   "nbconvert_exporter": "python",
   "pygments_lexer": "ipython3",
   "version": "3.10.9"
  }
 },
 "nbformat": 4,
 "nbformat_minor": 4
}
