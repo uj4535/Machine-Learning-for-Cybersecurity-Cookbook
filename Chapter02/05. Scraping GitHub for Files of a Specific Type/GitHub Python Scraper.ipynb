{
 "cells": [
  {
   "cell_type": "code",
   "execution_count": 1,
   "metadata": {},
   "outputs": [
    {
     "name": "stdout",
     "output_type": "stream",
     "text": [
      "system-design-primer\n",
      "public-apis\n",
      "models\n",
      "flask\n",
      "thefuck\n"
     ]
    }
   ],
   "source": [
    "import os\n",
    "from github import Github\n",
    "import base64\n",
    " \n",
    "# github에서 특정 파일 스크래핑\n",
    "# credential 입력 후 저장소 선택 query 지정\n",
    "username = \"uj453541@gmail.com\"\n",
    "password = \"\"\n",
    "g = Github(username, password)\n",
    "# 반복이 끝나면 모든 자바스크립트 파일을 하나의 디렉터리로 이동\n",
    "target_dir = \"./PythonSamples\"\n",
    "repositories = g.search_repositories(query='language:python')\n",
    "n = 5\n",
    "i = 0\n",
    "for repo in repositories:\n",
    "    reponame = repo.name\n",
    "    target_dir_of_repo = target_dir+\"\\\\\"+reponame\n",
    "    print(reponame)\n",
    "    try:\n",
    "        os.mkdir(target_dir_of_repo)\n",
    "        i += 1\n",
    "        contents = repo.get_contents(\"\")\n",
    "        while len(contents) > 1:\n",
    "            file_content = contents.pop(0)\n",
    "            if file_content.type == \"dir\":\n",
    "                contents.extend(repo.get_contents(file_content.path))\n",
    "            else:\n",
    "                st = str(file_content)\n",
    "                filename = st.split(\"\\\"\")[1].split(\"\\\"\")[0]\n",
    "                extension = filename.split(\".\")[-1]\n",
    "                if extension == \"py\":\n",
    "                    filecontents = repo.get_contents(file_content.path)\n",
    "                    file_data = base64.b64decode(filecontents.content)\n",
    "                    filename = filename.split(\"/\")[-1]\n",
    "                    file_out = open(target_dir_of_repo+\"/\"+filename, \"wb\")\n",
    "                    file_out.write(file_data)\n",
    "    except:\n",
    "        pass\n",
    "    if i==n:\n",
    "        break"
   ]
  },
  {
   "cell_type": "code",
   "execution_count": null,
   "metadata": {},
   "outputs": [],
   "source": []
  }
 ],
 "metadata": {
  "kernelspec": {
   "display_name": "Python 3",
   "language": "python",
   "name": "python3"
  },
  "language_info": {
   "codemirror_mode": {
    "name": "ipython",
    "version": 3
   },
   "file_extension": ".py",
   "mimetype": "text/x-python",
   "name": "python",
   "nbconvert_exporter": "python",
   "pygments_lexer": "ipython3",
   "version": "3.6.7"
  }
 },
 "nbformat": 4,
 "nbformat_minor": 2
}
