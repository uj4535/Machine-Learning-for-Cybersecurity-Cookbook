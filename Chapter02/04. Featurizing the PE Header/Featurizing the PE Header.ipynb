{
 "cells": [
  {
   "cell_type": "markdown",
   "metadata": {},
   "source": [
    "## PE 헤더 특성화\n",
    "malware/benign 샘플 분류기 구축에 사용할 PE헤더에서 특성 추출"
   ]
  },
  {
   "cell_type": "code",
   "execution_count": 31,
   "metadata": {},
   "outputs": [],
   "source": [
    "import pefile\n",
    "from os import listdir, path\n",
    "from os.path import isfile, join\n",
    "\n",
    "desired_file = \"../python-3.7.2-amd64.exe\"\n",
    "pe = pefile.PE(desired_file)\n",
    "directories=[\"Benign PE Samples\", \"Malicious PE samles\"]"
   ]
  },
  {
   "cell_type": "code",
   "execution_count": 2,
   "metadata": {},
   "outputs": [],
   "source": [
    "# 파일의 섹션 이름을 수집하고 함수의 가독성과 정규화를 위해 섹션 이름을 전처리\n",
    "def get_section_names(pe):\n",
    "    \"\"\"Gets a list of section names from a PE file.\"\"\"\n",
    "    list_of_section_names = []\n",
    "    for sec in pe.sections:\n",
    "        normalized_name = sec.Name.decode().replace(\"\\x00\", \"\").lower()\n",
    "        list_of_section_names.append(normalized_name)\n",
    "    return list_of_section_names"
   ]
  },
  {
   "cell_type": "code",
   "execution_count": 3,
   "metadata": {},
   "outputs": [],
   "source": [
    "# 들어온 것을 전처리한 후 이름을 소문자로 표준화하는 함수를 정의\n",
    "def preprocess_imports(list_of_DLLs):\n",
    "    \"\"\"Normalize the naming of the imports of a PE file.\"\"\"\n",
    "    return [x.decode().split(\".\")[0].lower() for x in list_of_DLLs]\n",
    "\n",
    "# pefile을 통해 파일에서 들여온 것을 수집하는 함수 정의\n",
    "def get_imports(pe):\n",
    "    \"\"\"Get a list of the imports of a PE file.\"\"\"\n",
    "    list_of_imports = []\n",
    "    for entry in pe.DIRECTORY_ENTRY_IMPORT:\n",
    "        list_of_imports.append(entry.dll)\n",
    "    return preprocess_imports(list_of_imports)"
   ]
  },
  {
   "cell_type": "code",
   "execution_count": 32,
   "metadata": {},
   "outputs": [
    {
     "ename": "FileNotFoundError",
     "evalue": "[Errno 2] No such file or directory: '../../PE Samples Dataset/Benign PE samples'",
     "output_type": "error",
     "traceback": [
      "\u001b[0;31m---------------------------------------------------------------------------\u001b[0m",
      "\u001b[0;31mFileNotFoundError\u001b[0m                         Traceback (most recent call last)",
      "Cell \u001b[0;32mIn[32], line 7\u001b[0m\n\u001b[1;32m      5\u001b[0m \u001b[38;5;66;03m# 위의 특성을 수집하는 것 이외에 파일의 섹션 개수도 수집\u001b[39;00m\n\u001b[1;32m      6\u001b[0m \u001b[38;5;28;01mfor\u001b[39;00m dataset_path \u001b[38;5;129;01min\u001b[39;00m directories:\n\u001b[0;32m----> 7\u001b[0m     samples \u001b[38;5;241m=\u001b[39m [f \u001b[38;5;28;01mfor\u001b[39;00m f \u001b[38;5;129;01min\u001b[39;00m \u001b[43mlistdir\u001b[49m\u001b[43m(\u001b[49m\u001b[43mdataset_path\u001b[49m\u001b[43m)\u001b[49m \u001b[38;5;28;01mif\u001b[39;00m isfile(join(dataset_path, f))]\n\u001b[1;32m      8\u001b[0m     \u001b[38;5;28;01mfor\u001b[39;00m file \u001b[38;5;129;01min\u001b[39;00m samples:\n\u001b[1;32m      9\u001b[0m         file_path \u001b[38;5;241m=\u001b[39m dataset_path \u001b[38;5;241m+\u001b[39m \u001b[38;5;124m\"\u001b[39m\u001b[38;5;124m/\u001b[39m\u001b[38;5;124m\"\u001b[39m \u001b[38;5;241m+\u001b[39m file\n",
      "\u001b[0;31mFileNotFoundError\u001b[0m: [Errno 2] No such file or directory: '../../PE Samples Dataset/Benign PE samples'"
     ]
    }
   ],
   "source": [
    "# 모든 파일에 대해 반복하고 특성을 저장할 리스트를 만듦\n",
    "imports_corpus = []\n",
    "num_sections = []\n",
    "section_names = []\n",
    "# 위의 특성을 수집하는 것 이외에 파일의 섹션 개수도 수집\n",
    "for dataset_path in directories:\n",
    "    samples = [f for f in listdir(dataset_path) if isfile(join(dataset_path, f))]\n",
    "    for file in samples:\n",
    "        file_path = dataset_path + \"/\" + file\n",
    "        try:\n",
    "            pe = pefile.PE(file_path)\n",
    "            imports = get_imports(pe)\n",
    "            n_sections = len(pe.sections)\n",
    "            sec_names = get_section_names(pe)\n",
    "            imports_corpus.append(imports)\n",
    "            num_sections.append(n_sections)\n",
    "            section_names.append(sec_names)\n",
    "# 파일의 헤더 구문을 분석할 수 없는 경우를 대비한 예외처리\n",
    "        except Exception as e:\n",
    "            print(e)\n",
    "            print(\"Unable to obtain imports from \" + file_path)"
   ]
  },
  {
   "cell_type": "code",
   "execution_count": 9,
   "metadata": {},
   "outputs": [
    {
     "name": "stdout",
     "output_type": "stream",
     "text": [
      "[['mscoree'], ['mscoree'], ['mscoree'], ['wincorlib', 'api-ms-win-eventing-provider-l1-1-0', 'api-ms-win-core-libraryloader-l1-2-0', 'api-ms-win-core-localization-l1-2-0', 'api-ms-win-core-processthreads-l1-1-0', 'api-ms-win-core-heap-l1-1-0', 'api-ms-win-core-debug-l1-1-0', 'api-ms-win-core-errorhandling-l1-1-0', 'api-ms-win-core-handle-l1-1-0', 'api-ms-win-core-synch-l1-1-0', 'api-ms-win-core-synch-l1-2-0', 'api-ms-win-core-com-l1-1-0', 'ext-ms-win-shell32-shellfolders-l1-1-0', 'api-ms-win-core-string-l1-1-0', 'api-ms-win-core-registry-l1-1-0', 'api-ms-win-core-util-l1-1-0', 'api-ms-win-core-winrt-error-l1-1-0', 'api-ms-win-core-winrt-error-l1-1-1', 'api-ms-win-core-winrt-string-l1-1-0', 'msvcrt', 'ntdll', 'api-ms-win-core-profile-l1-1-0', 'api-ms-win-core-sysinfo-l1-1-0'], ['advapi32', 'kernel32', 'msvcrt', 'ntdll', 'ole32', 'oleaut32', 'wintrust', 'fltlib', 'shell32', 'version', 'activeds']]\n",
      "[3, 3, 3, 6, 6]\n",
      "[['.text', '.rsrc', '.reloc'], ['.text', '.rsrc', '.reloc'], ['.text', '.rsrc', '.reloc'], ['.text', '.rdata', '.data', '.pdata', '.rsrc', '.reloc'], ['.text', '.rdata', '.data', '.pdata', '.rsrc', '.reloc']]\n"
     ]
    }
   ],
   "source": [
    "print(imports_corpus[0:5])\n",
    "print(num_sections[0:5])\n",
    "print(section_names[0:5])"
   ]
  },
  {
   "cell_type": "code",
   "execution_count": null,
   "metadata": {},
   "outputs": [],
   "source": []
  }
 ],
 "metadata": {
  "kernelspec": {
   "display_name": "Python 3",
   "language": "python",
   "name": "python3"
  },
  "language_info": {
   "codemirror_mode": {
    "name": "ipython",
    "version": 3
   },
   "file_extension": ".py",
   "mimetype": "text/x-python",
   "name": "python",
   "nbconvert_exporter": "python",
   "pygments_lexer": "ipython3",
   "version": "3.11.6"
  }
 },
 "nbformat": 4,
 "nbformat_minor": 4
}
