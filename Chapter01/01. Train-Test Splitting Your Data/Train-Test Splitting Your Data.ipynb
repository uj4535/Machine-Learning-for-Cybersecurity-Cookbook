{
 "cells": [
  {
   "cell_type": "code",
   "execution_count": 19,
   "metadata": {},
   "outputs": [],
   "source": [
    "from sklearn.model_selection import train_test_split\n",
    "import pandas as pd"
   ]
  },
  {
   "cell_type": "code",
   "execution_count": 20,
   "metadata": {},
   "outputs": [],
   "source": [
    "# 80% 크기의 훈련 데이터셋과 20%의 테스트 데이터셋으로 구성되도록 무작위로 분할.\n",
    "\n",
    "df = pd.read_csv(\"north_korea_missile_test_database.csv\")\n",
    "y = df[\"Missile Name\"]\n",
    "X = df.drop(\"Missile Name\", axis=1)\n",
    "X_train, X_test, y_train, y_test = train_test_split(\n",
    "    X, y, test_size=0.2, random_state=31\n",
    ")"
   ]
  },
  {
   "cell_type": "code",
   "execution_count": 21,
   "metadata": {},
   "outputs": [],
   "source": [
    "# train_test_split 메서드를 한번 더 적용하여 검증 데이터셋 X_val, y_val로 한번 더 분할\n",
    "# 훈련데이터의 75%를 다시 훈련 데이터셋(X_train, y_train)으로, 25%를 검증용 데이터셋 (X_val, y_val)으로 분할.\n",
    "\n",
    "X_train, X_val, y_train, y_val = train_test_split(\n",
    "    X_train, y_train, test_size=0.25, random_state=31\n",
    ")"
   ]
  },
  {
   "cell_type": "code",
   "execution_count": 3,
   "metadata": {},
   "outputs": [
    {
     "data": {
      "text/plain": [
       "81"
      ]
     },
     "execution_count": 3,
     "metadata": {},
     "output_type": "execute_result"
    }
   ],
   "source": [
    "len(X_train)"
   ]
  },
  {
   "cell_type": "code",
   "execution_count": 4,
   "metadata": {},
   "outputs": [
    {
     "data": {
      "text/plain": [
       "27"
      ]
     },
     "execution_count": 4,
     "metadata": {},
     "output_type": "execute_result"
    }
   ],
   "source": [
    "len(X_val)"
   ]
  },
  {
   "cell_type": "code",
   "execution_count": 5,
   "metadata": {},
   "outputs": [
    {
     "data": {
      "text/plain": [
       "27"
      ]
     },
     "execution_count": 5,
     "metadata": {},
     "output_type": "execute_result"
    }
   ],
   "source": [
    "len(X_test)"
   ]
  },
  {
   "cell_type": "code",
   "execution_count": 6,
   "metadata": {},
   "outputs": [
    {
     "name": "stdout",
     "output_type": "stream",
     "text": [
      "81\n",
      "81\n",
      "27\n",
      "27\n",
      "27\n",
      "27\n"
     ]
    }
   ],
   "source": [
    "print(len(X_train))\n",
    "print(len(y_train))\n",
    "print(len(X_val))\n",
    "print(len(y_val))\n",
    "print(len(X_test))\n",
    "print(len(y_test))"
   ]
  },
  {
   "cell_type": "code",
   "execution_count": 34,
   "metadata": {},
   "outputs": [
    {
     "name": "stdout",
     "output_type": "stream",
     "text": [
      "원래 데이터셋의 크기: 135\n",
      "훈련 데이터셋의 크기: 81 = 60.00%\n",
      "검증 데이터셋의 크기: 27 = 20.00%\n",
      "테스트 데이터셋의 크기: 27 = 20.00%\n"
     ]
    }
   ],
   "source": [
    "# 최종적으로 원래 데이터셋의 60%의 훈련 데이터셋과 20%의 검증 데이터셋, 20%의 테스트 데이터셋을 얻을 수 있음.\n",
    "# 각 데이터셋의 크기는 다음과 같이 확인\n",
    "print(f\"원래 데이터셋의 크기: {len(X)}\")\n",
    "print(f\"훈련 데이터셋의 크기: {len(X_train)} = \" \n",
    "     f\"{len(X_train)/len(X) * 100 :.2f}%\")\n",
    "print(f\"검증 데이터셋의 크기: {len(X_val)} = \" \n",
    "     f\"{len(X_val)/len(X) * 100 :.2f}%\")\n",
    "print(f\"테스트 데이터셋의 크기: {len(X_test)} = \" \n",
    "     f\"{len(X_test)/len(X) * 100 :.2f}%\" )"
   ]
  },
  {
   "cell_type": "code",
   "execution_count": null,
   "metadata": {},
   "outputs": [],
   "source": []
  }
 ],
 "metadata": {
  "kernelspec": {
   "display_name": "Python 3 (ipykernel)",
   "language": "python",
   "name": "python3"
  },
  "language_info": {
   "codemirror_mode": {
    "name": "ipython",
    "version": 3
   },
   "file_extension": ".py",
   "mimetype": "text/x-python",
   "name": "python",
   "nbconvert_exporter": "python",
   "pygments_lexer": "ipython3",
   "version": "3.10.9"
  }
 },
 "nbformat": 4,
 "nbformat_minor": 4
}
