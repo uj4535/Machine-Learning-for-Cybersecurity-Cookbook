{
 "cells": [
  {
   "cell_type": "markdown",
   "metadata": {},
   "source": [
    "파일 유형으로 파일 분류하기"
   ]
  },
  {
   "cell_type": "code",
   "execution_count": 10,
   "metadata": {},
   "outputs": [],
   "source": [
    "# 필요한 라이브러리 들여오고 훈련과 테스트를 위해 사용할 샘플의 경로를 지정하는 것부터 시작\n",
    "import os\n",
    "from sklearn.feature_extraction.text import HashingVectorizer, TfidfTransformer\n",
    "from sklearn.ensemble import RandomForestClassifier\n",
    "from sklearn.model_selection import train_test_split\n",
    "from sklearn.metrics import accuracy_score, confusion_matrix\n",
    "from sklearn.pipeline import Pipeline\n",
    "\n",
    "javascript_path = \"JavascriptSamples/\"\n",
    "python_path = \"PythonSamples/\"\n",
    "powershell_path = \"PowerShellSamples/\""
   ]
  },
  {
   "cell_type": "code",
   "execution_count": 11,
   "metadata": {},
   "outputs": [],
   "source": [
    "# 세 유형의 모든 파일을 읽고, javascript/python/powershell 레이블을 각각 -1, 0, 1로 표현하는 배열을 만듦\n",
    "corpus = []\n",
    "labels = []\n",
    "file_types_and_labels = [(javascript_path, -1), (python_path, 0), (powershell_path, 1)]\n",
    "for files_path, label in file_types_and_labels:\n",
    "    files = os.listdir(files_path)\n",
    "    for file in files:\n",
    "        file_path = files_path + \"/\" + file\n",
    "        try:\n",
    "            with open(file_path, \"r\") as myfile:\n",
    "                data = myfile.read().replace(\"\\n\", \"\")\n",
    "        except:\n",
    "            pass\n",
    "        data = str(data)\n",
    "        corpus.append(data)\n",
    "        labels.append(label)"
   ]
  },
  {
   "cell_type": "code",
   "execution_count": 15,
   "metadata": {},
   "outputs": [
    {
     "name": "stdout",
     "output_type": "stream",
     "text": [
      "[\"// use this file with runners like node-debug// or mocha.require('babel-register');var app = require('./server');app.start();\", \"'use strict';var exclusionRegex = /^index|examples\\\\/|ptore2e\\\\//;module.exports = function createSitemap() {  return {    $runAfter: ['paths-computed'],    $runBefore: ['rendering-docs'],    $process: function(docs) {      docs.push({        id: 'sitemap.xml',        path: 'sitemap.xml',        outputPath: '../sitemap.xml',        template: 'sitemap.template.xml',        urls: docs.filter(function(doc) {          return doc.path &&            doc.outputPath &&            !exclusionRegex.test(doc.outputPath);        }).map(function(doc) {          return doc.path;        })      });    }  };};\", '\\'use strict\\';const common = require(\\'../common\\');if (common.isWindows) {  common.skip(\\'`make doc` does not run on Windows\\');}// This tests that `make doc` generates the documentation properly.// Note that for this test to pass, `make doc` must be run first.const assert = require(\\'assert\\');const fs = require(\\'fs\\');const path = require(\\'path\\');const apiPath = path.resolve(__dirname, \\'..\\', \\'..\\', \\'out\\', \\'doc\\', \\'api\\');const mdPath = path.resolve(__dirname, \\'..\\', \\'..\\', \\'doc\\', \\'api\\');const allMD = fs.readdirSync(mdPath);const allDocs = fs.readdirSync(apiPath);assert.ok(allDocs.includes(\\'index.html\\'));const actualDocs = allDocs.filter(  (name) => {    const extension = path.extname(name);    return extension === \\'.html\\' || extension === \\'.json\\';  });for (const name of actualDocs) {  if (name.startsWith(\\'all.\\')) continue;  assert.ok(    allMD.includes(name.replace(/\\\\.\\\\w+$/, \\'.md\\')),    `Unexpected output: out/doc/api/${name}, remove and rerun.`  );}const toc = fs.readFileSync(path.resolve(apiPath, \\'index.html\\'), \\'utf8\\');const re = /href=\"([^/]+\\\\.html)\"/;const globalRe = new RegExp(re, \\'g\\');const links = toc.match(globalRe);assert.notStrictEqual(links, null);// Filter out duplicate links, leave just filenames, add expected JSON files.const linkedHtmls = [...new Set(links)].map((link) => link.match(re)[1]);const expectedJsons = linkedHtmls                       .map((name) => name.replace(\\'.html\\', \\'.json\\'));const expectedDocs = linkedHtmls.concat(expectedJsons);// Test that all the relative links in the TOC match to the actual documents.for (const expectedDoc of expectedDocs) {  assert.ok(actualDocs.includes(expectedDoc), `${expectedDoc} does not exist`);}// Test that all the actual documents match to the relative links in the TOC// and that they are not empty files.for (const actualDoc of actualDocs) {  assert.ok(    expectedDocs.includes(actualDoc), `${actualDoc} does not match TOC`);  assert.ok(    fs.statSync(path.join(apiPath, actualDoc)).size !== 0,    `${actualDoc} is empty`  );}', '\\'use strict\\';var OPTION_MATCHER = /^\\\\s*([\\\\w-]+)=\"([^\"]+)\"\\\\s+([\\\\s\\\\S]*)/;var VALID_OPTIONS = [\\'sinceVersion\\', \\'removeVersion\\'];module.exports = {  name: \\'deprecated\\',  transforms: function(doc, tag, value) {    var result = {};    var invalidOptions = [];    value = value.trim();    while (OPTION_MATCHER.test(value)) {      value = value.replace(OPTION_MATCHER, function(_, key, value, rest) {        if (VALID_OPTIONS.indexOf(key) !== -1) {          result[key] = value;        } else {          invalidOptions.push(key);        }        return rest;      });    }    if (invalidOptions.length > 0) {      throw new Error(\\'Invalid options: \\' + humanList(invalidOptions) + \\'. Value options are: \\' + humanList(VALID_OPTIONS));    }    result.description = value;    return result;  }};function humanList(values, sep, lastSep) {  if (sep === undefined) sep = \\', \\';  if (lastSep === undefined) lastSep = \\' and \\';  return values.reduce(function(output, value, index, list) {    output += \\'\"\\' + value + \\'\"\\';    switch (list.length - index) {      case 1: return output;      case 2: return output + lastSep;      default: return output + sep;    }  }, \\'\\');}', '\\'use strict\\';const common = require(\\'../common\\');if (!common.hasCrypto)  common.skip(\\'missing crypto\\');const assert = require(\\'assert\\');const crypto = require(\\'crypto\\');common.expectWarning(  \\'DeprecationWarning\\',  \\'Calling pbkdf2 or pbkdf2Sync with \"digest\" set to null is deprecated.\\',  \\'DEP0009\\');//// Test PBKDF2 with RFC 6070 test vectors (except #4)//function testPBKDF2(password, salt, iterations, keylen, expected) {  const actual =    crypto.pbkdf2Sync(password, salt, iterations, keylen, \\'sha256\\');  assert.strictEqual(actual.toString(\\'latin1\\'), expected);  crypto.pbkdf2(password, salt, iterations, keylen, \\'sha256\\', (err, actual) => {    assert.strictEqual(actual.toString(\\'latin1\\'), expected);  });}testPBKDF2(\\'password\\', \\'salt\\', 1, 20,           \\'\\\\x12\\\\x0f\\\\xb6\\\\xcf\\\\xfc\\\\xf8\\\\xb3\\\\x2c\\\\x43\\\\xe7\\\\x22\\\\x52\\' +           \\'\\\\x56\\\\xc4\\\\xf8\\\\x37\\\\xa8\\\\x65\\\\x48\\\\xc9\\');testPBKDF2(\\'password\\', \\'salt\\', 2, 20,           \\'\\\\xae\\\\x4d\\\\x0c\\\\x95\\\\xaf\\\\x6b\\\\x46\\\\xd3\\\\x2d\\\\x0a\\\\xdf\\\\xf9\\' +           \\'\\\\x28\\\\xf0\\\\x6d\\\\xd0\\\\x2a\\\\x30\\\\x3f\\\\x8e\\');testPBKDF2(\\'password\\', \\'salt\\', 4096, 20,           \\'\\\\xc5\\\\xe4\\\\x78\\\\xd5\\\\x92\\\\x88\\\\xc8\\\\x41\\\\xaa\\\\x53\\\\x0d\\\\xb6\\' +           \\'\\\\x84\\\\x5c\\\\x4c\\\\x8d\\\\x96\\\\x28\\\\x93\\\\xa0\\');testPBKDF2(\\'passwordPASSWORDpassword\\',           \\'saltSALTsaltSALTsaltSALTsaltSALTsalt\\',           4096,           25,           \\'\\\\x34\\\\x8c\\\\x89\\\\xdb\\\\xcb\\\\xd3\\\\x2b\\\\x2f\\\\x32\\\\xd8\\\\x14\\\\xb8\\\\x11\\' +           \\'\\\\x6e\\\\x84\\\\xcf\\\\x2b\\\\x17\\\\x34\\\\x7e\\\\xbc\\\\x18\\\\x00\\\\x18\\\\x1c\\');testPBKDF2(\\'pass\\\\0word\\', \\'sa\\\\0lt\\', 4096, 16,           \\'\\\\x89\\\\xb6\\\\x9d\\\\x05\\\\x16\\\\xf8\\\\x29\\\\x89\\\\x3c\\\\x69\\\\x62\\\\x26\\\\x65\\' +           \\'\\\\x0a\\\\x86\\\\x87\\');const expected =    \\'64c486c55d30d4c5a079b8823b7d7cb37ff0556f537da8410233bcec330ed956\\';const key = crypto.pbkdf2Sync(\\'password\\', \\'salt\\', 32, 32, \\'sha256\\');assert.strictEqual(key.toString(\\'hex\\'), expected);crypto.pbkdf2(\\'password\\', \\'salt\\', 32, 32, \\'sha256\\', common.mustCall(ondone));function ondone(err, key) {  assert.ifError(err);  assert.strictEqual(key.toString(\\'hex\\'), expected);}// Error path should not leak memory (check with valgrind).assert.throws(  () => crypto.pbkdf2(\\'password\\', \\'salt\\', 1, 20, null),  {    code: \\'ERR_INVALID_CALLBACK\\',    name: \\'TypeError\\'  });assert.throws(  () => crypto.pbkdf2Sync(\\'password\\', \\'salt\\', -1, 20, \\'sha1\\'),  {    code: \\'ERR_OUT_OF_RANGE\\',    name: \\'RangeError\\',    message: \\'The value of \"iterations\" is out of range. \\' +             \\'It must be >= 0 && < 4294967296. Received -1\\'  });[\\'str\\', null, undefined, [], {}].forEach((notNumber) => {  assert.throws(    () => {      crypto.pbkdf2Sync(\\'password\\', \\'salt\\', 1, notNumber, \\'sha256\\');    }, {      code: \\'ERR_INVALID_ARG_TYPE\\',      name: \\'TypeError\\',      message: \\'The \"keylen\" argument must be of type number. \\' +               `Received type ${typeof notNumber}`    });});[Infinity, -Infinity, NaN].forEach((input) => {  assert.throws(    () => {      crypto.pbkdf2(\\'password\\', \\'salt\\', 1, input, \\'sha256\\',                    common.mustNotCall());    }, {      code: \\'ERR_OUT_OF_RANGE\\',      name: \\'RangeError\\',      message: \\'The value of \"keylen\" is out of range. It \\' +               `must be an integer. Received ${input}`    });});[-1, 4294967297].forEach((input) => {  assert.throws(    () => {      crypto.pbkdf2(\\'password\\', \\'salt\\', 1, input, \\'sha256\\',                    common.mustNotCall());    }, {      code: \\'ERR_OUT_OF_RANGE\\',      name: \\'RangeError\\',      message: \\'The value of \"keylen\" is out of range. It \\' +               `must be >= 0 && < 4294967296. Received ${input}`    });});// Should not get FATAL ERROR with empty password and salt// https://github.com/nodejs/node/issues/8571crypto.pbkdf2(\\'\\', \\'\\', 1, 32, \\'sha256\\', common.mustCall(assert.ifError));assert.throws(  () => crypto.pbkdf2(\\'password\\', \\'salt\\', 8, 8, common.mustNotCall()),  {    code: \\'ERR_INVALID_ARG_TYPE\\',    name: \\'TypeError\\',    message: \\'The \"digest\" argument must be one of type string or null. \\' +             \\'Received type undefined\\'  });assert.throws(  () => crypto.pbkdf2Sync(\\'password\\', \\'salt\\', 8, 8),  {    code: \\'ERR_INVALID_ARG_TYPE\\',    name: \\'TypeError\\',    message: \\'The \"digest\" argument must be one of type string or null. \\' +             \\'Received type undefined\\'  });[1, {}, [], true, undefined, null].forEach((input) => {  const msgPart2 = \\'Buffer, TypedArray, or DataView.\\' +                   ` Received type ${typeof input}`;  assert.throws(    () => crypto.pbkdf2(input, \\'salt\\', 8, 8, \\'sha256\\', common.mustNotCall()),    {      code: \\'ERR_INVALID_ARG_TYPE\\',      name: \\'TypeError\\',      message: `The \"password\" argument must be one of type string, ${msgPart2}`    }  );  assert.throws(    () => crypto.pbkdf2(\\'pass\\', input, 8, 8, \\'sha256\\', common.mustNotCall()),    {      code: \\'ERR_INVALID_ARG_TYPE\\',      name: \\'TypeError\\',      message: `The \"salt\" argument must be one of type string, ${msgPart2}`    }  );  assert.throws(    () => crypto.pbkdf2Sync(input, \\'salt\\', 8, 8, \\'sha256\\'),    {      code: \\'ERR_INVALID_ARG_TYPE\\',      name: \\'TypeError\\',      message: `The \"password\" argument must be one of type string, ${msgPart2}`    }  );  assert.throws(    () => crypto.pbkdf2Sync(\\'pass\\', input, 8, 8, \\'sha256\\'),    {      code: \\'ERR_INVALID_ARG_TYPE\\',      name: \\'TypeError\\',      message: `The \"salt\" argument must be one of type string, ${msgPart2}`    }  );});[\\'test\\', {}, [], true, undefined, null].forEach((i) => {  const received = `Received type ${typeof i}`;  assert.throws(    () => crypto.pbkdf2(\\'pass\\', \\'salt\\', i, 8, \\'sha256\\', common.mustNotCall()),    {      code: \\'ERR_INVALID_ARG_TYPE\\',      name: \\'TypeError\\',      message: `The \"iterations\" argument must be of type number. ${received}`    }  );  assert.throws(    () => crypto.pbkdf2Sync(\\'pass\\', \\'salt\\', i, 8, \\'sha256\\'),    {      code: \\'ERR_INVALID_ARG_TYPE\\',      name: \\'TypeError\\',      message: `The \"iterations\" argument must be of type number. ${received}`    }  );});// Any TypedArray should work for password and saltcrypto.pbkdf2(new Uint8Array(10), \\'salt\\', 8, 8, \\'sha256\\', common.mustCall());crypto.pbkdf2(\\'pass\\', new Uint8Array(10), 8, 8, \\'sha256\\', common.mustCall());crypto.pbkdf2(new Uint16Array(10), \\'salt\\', 8, 8, \\'sha256\\', common.mustCall());crypto.pbkdf2(\\'pass\\', new Uint16Array(10), 8, 8, \\'sha256\\', common.mustCall());crypto.pbkdf2(new Uint32Array(10), \\'salt\\', 8, 8, \\'sha256\\', common.mustCall());crypto.pbkdf2(\\'pass\\', new Uint32Array(10), 8, 8, \\'sha256\\', common.mustCall());crypto.pbkdf2(new Float32Array(10), \\'salt\\', 8, 8, \\'sha256\\', common.mustCall());crypto.pbkdf2(\\'pass\\', new Float32Array(10), 8, 8, \\'sha256\\', common.mustCall());crypto.pbkdf2(new Float64Array(10), \\'salt\\', 8, 8, \\'sha256\\', common.mustCall());crypto.pbkdf2(\\'pass\\', new Float64Array(10), 8, 8, \\'sha256\\', common.mustCall());crypto.pbkdf2Sync(new Uint8Array(10), \\'salt\\', 8, 8, \\'sha256\\');crypto.pbkdf2Sync(\\'pass\\', new Uint8Array(10), 8, 8, \\'sha256\\');crypto.pbkdf2Sync(new Uint16Array(10), \\'salt\\', 8, 8, \\'sha256\\');crypto.pbkdf2Sync(\\'pass\\', new Uint16Array(10), 8, 8, \\'sha256\\');crypto.pbkdf2Sync(new Uint32Array(10), \\'salt\\', 8, 8, \\'sha256\\');crypto.pbkdf2Sync(\\'pass\\', new Uint32Array(10), 8, 8, \\'sha256\\');crypto.pbkdf2Sync(new Float32Array(10), \\'salt\\', 8, 8, \\'sha256\\');crypto.pbkdf2Sync(\\'pass\\', new Float32Array(10), 8, 8, \\'sha256\\');crypto.pbkdf2Sync(new Float64Array(10), \\'salt\\', 8, 8, \\'sha256\\');crypto.pbkdf2Sync(\\'pass\\', new Float64Array(10), 8, 8, \\'sha256\\');assert.throws(  () => crypto.pbkdf2(\\'pass\\', \\'salt\\', 8, 8, \\'md55\\', common.mustNotCall()),  {    code: \\'ERR_CRYPTO_INVALID_DIGEST\\',    name: \\'TypeError\\',    message: \\'Invalid digest: md55\\'  });assert.throws(  () => crypto.pbkdf2Sync(\\'pass\\', \\'salt\\', 8, 8, \\'md55\\'),  {    code: \\'ERR_CRYPTO_INVALID_DIGEST\\',    name: \\'TypeError\\',    message: \\'Invalid digest: md55\\'  });']\n",
      "[-1, -1, -1, -1, -1]\n"
     ]
    }
   ],
   "source": [
    "print(corpus[0:5])\n",
    "print(labels[0:5])"
   ]
  },
  {
   "cell_type": "code",
   "execution_count": 12,
   "metadata": {},
   "outputs": [],
   "source": [
    "# 파일에 대해 기본 자연어 처리를 수행할 훈련 및 테스트 데이터와 파이프라인을 만들고 랜덤 포레스트 분류기를 생성\n",
    "X_train, X_test, y_train, y_test = train_test_split(\n",
    "    corpus, labels, test_size=0.33, random_state=11\n",
    ")\n",
    "text_clf = Pipeline(\n",
    "    [\n",
    "        (\"vect\", HashingVectorizer(input=\"content\", ngram_range=(1, 3))),\n",
    "        (\"tfidf\", TfidfTransformer(use_idf=True,)),\n",
    "        (\"rf\", RandomForestClassifier(class_weight=\"balanced\")),\n",
    "    ]\n",
    ")"
   ]
  },
  {
   "cell_type": "code",
   "execution_count": 13,
   "metadata": {},
   "outputs": [
    {
     "name": "stdout",
     "output_type": "stream",
     "text": [
      "정확도: 99.2014%\n",
      "[[1222    0    0]\n",
      " [  14  516    0]\n",
      " [   0    0    1]]\n"
     ]
    }
   ],
   "source": [
    "# 파이프라인을 훈련 데이터에 적합하고, 이를 이용하여 테스트 데이터를 예측 후 정확도와 혼돈행렬을 출력한다.\n",
    "text_clf.fit(X_train, y_train)\n",
    "y_test_pred = text_clf.predict(X_test)\n",
    "print(f\"정확도: {accuracy_score(y_test, y_test_pred) * 100 :.4f}%\")\n",
    "print(confusion_matrix(y_test, y_test_pred))"
   ]
  },
  {
   "cell_type": "code",
   "execution_count": null,
   "metadata": {},
   "outputs": [],
   "source": []
  }
 ],
 "metadata": {
  "kernelspec": {
   "display_name": "Python 3",
   "language": "python",
   "name": "python3"
  },
  "language_info": {
   "codemirror_mode": {
    "name": "ipython",
    "version": 3
   },
   "file_extension": ".py",
   "mimetype": "text/x-python",
   "name": "python",
   "nbconvert_exporter": "python",
   "pygments_lexer": "ipython3",
   "version": "3.11.6"
  }
 },
 "nbformat": 4,
 "nbformat_minor": 4
}
