{
 "cells": [
  {
   "cell_type": "markdown",
   "metadata": {},
   "source": [
    "## 악성코드 정적분석\n",
    "### - 정적분석에서는 악성코드 샘플을 실행하지 않고 검사\n",
    "### - 간단한 정보부터 YARA 시그니처에 이르기까지 다양한 정보 획득 가능\n",
    "### - 악성코드가 난독화 될 수 있으므로 만능은 아님"
   ]
  },
  {
   "cell_type": "code",
   "execution_count": 11,
   "metadata": {},
   "outputs": [],
   "source": [
    "import sys\n",
    "import hashlib\n",
    "\n",
    "filename = \"python-3.7.2-amd64.exe\""
   ]
  },
  {
   "cell_type": "code",
   "execution_count": 13,
   "metadata": {},
   "outputs": [
    {
     "name": "stdout",
     "output_type": "stream",
     "text": [
      "md5 해시인스턴스값: <md5 _hashlib.HASH object @ 0x114d0a690>  sha256 해시인스턴스값: <sha256 _hashlib.HASH object @ 0x114d0ab90>\n"
     ]
    }
   ],
   "source": [
    "# 샘플의 해시값 계산\n",
    "# hash: 짧고 고유한 문자열 시그니처. 해시값으로 두 파일을 비교해 동일성 여부 확인 가능\n",
    "# MD5 와 SHA256 객체를 인스턴스화하고, 청크의 크기를 지정\n",
    "BUF_SIZE = 65536\n",
    "md5 = hashlib.md5()\n",
    "sha256 = hashlib.sha256()\n",
    "print(\"md5 해시인스턴스값:\", md5,\" sha256 해시인스턴스값:\", sha256)"
   ]
  },
  {
   "cell_type": "code",
   "execution_count": 14,
   "metadata": {},
   "outputs": [
    {
     "name": "stdout",
     "output_type": "stream",
     "text": [
      "MD5: ff258093f0b3953c886192dec9f52763\n",
      "SHA256: 0fe2a696f5a3e481fed795ef6896ed99157bcef273ef3c4a96f2905cbdb3aa13\n"
     ]
    }
   ],
   "source": [
    "# 파일을 64KB의 청크로 읽어 점진적으로 해시값 계산\n",
    "with open(filename, \"rb\") as f:\n",
    "    while True:\n",
    "        data = f.read(BUF_SIZE)\n",
    "        if not data:\n",
    "            break\n",
    "# update 메서드: 연접한 해시값 계산하여 해시값 점진적으로 계산 가능\n",
    "# hash.update(a) 다음에 오는 hash.update(b)는 hash.update(a+b)와 같다\n",
    "        md5.update(data) \n",
    "        sha256.update(data) \n",
    "        \n",
    "# 해시값 16진수로 출력\n",
    "print(\"MD5: {0}\".format(md5.hexdigest()))\n",
    "print(\"SHA256: {0}\".format(sha256.hexdigest()))"
   ]
  },
  {
   "cell_type": "code",
   "execution_count": null,
   "metadata": {},
   "outputs": [],
   "source": []
  }
 ],
 "metadata": {
  "kernelspec": {
   "display_name": "Python 3",
   "language": "python",
   "name": "python3"
  },
  "language_info": {
   "codemirror_mode": {
    "name": "ipython",
    "version": 3
   },
   "file_extension": ".py",
   "mimetype": "text/x-python",
   "name": "python",
   "nbconvert_exporter": "python",
   "pygments_lexer": "ipython3",
   "version": "3.11.6"
  }
 },
 "nbformat": 4,
 "nbformat_minor": 4
}
