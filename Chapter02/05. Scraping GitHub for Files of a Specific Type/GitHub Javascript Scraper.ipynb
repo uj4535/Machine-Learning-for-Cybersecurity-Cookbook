{
 "cells": [
  {
   "cell_type": "code",
   "execution_count": 3,
   "metadata": {},
   "outputs": [
    {
     "name": "stdout",
     "output_type": "stream",
     "text": [
      "Requirement already satisfied: pyGithub in /usr/local/lib/python3.11/site-packages (2.3.0)\n",
      "Requirement already satisfied: pynacl>=1.4.0 in /usr/local/lib/python3.11/site-packages (from pyGithub) (1.5.0)\n",
      "Requirement already satisfied: requests>=2.14.0 in /usr/local/lib/python3.11/site-packages (from pyGithub) (2.31.0)\n",
      "Requirement already satisfied: pyjwt>=2.4.0 in /usr/local/lib/python3.11/site-packages (from pyjwt[crypto]>=2.4.0->pyGithub) (2.8.0)\n",
      "Requirement already satisfied: typing-extensions>=4.0.0 in /usr/local/lib/python3.11/site-packages (from pyGithub) (4.11.0)\n",
      "Requirement already satisfied: urllib3>=1.26.0 in /usr/local/lib/python3.11/site-packages (from pyGithub) (2.2.1)\n",
      "Requirement already satisfied: Deprecated in /usr/local/lib/python3.11/site-packages (from pyGithub) (1.2.14)\n",
      "Requirement already satisfied: cryptography>=3.4.0 in /usr/local/lib/python3.11/site-packages (from pyjwt[crypto]>=2.4.0->pyGithub) (42.0.5)\n",
      "Requirement already satisfied: cffi>=1.4.1 in /usr/local/lib/python3.11/site-packages (from pynacl>=1.4.0->pyGithub) (1.16.0)\n",
      "Requirement already satisfied: charset-normalizer<4,>=2 in /usr/local/lib/python3.11/site-packages (from requests>=2.14.0->pyGithub) (3.3.2)\n",
      "Requirement already satisfied: idna<4,>=2.5 in /usr/local/lib/python3.11/site-packages (from requests>=2.14.0->pyGithub) (3.6)\n",
      "Requirement already satisfied: certifi>=2017.4.17 in /usr/local/lib/python3.11/site-packages (from requests>=2.14.0->pyGithub) (2024.2.2)\n",
      "Requirement already satisfied: wrapt<2,>=1.10 in /usr/local/lib/python3.11/site-packages (from Deprecated->pyGithub) (1.16.0)\n",
      "Requirement already satisfied: pycparser in /usr/local/lib/python3.11/site-packages (from cffi>=1.4.1->pynacl>=1.4.0->pyGithub) (2.22)\n",
      "\n",
      "\u001b[1m[\u001b[0m\u001b[34;49mnotice\u001b[0m\u001b[1;39;49m]\u001b[0m\u001b[39;49m A new release of pip is available: \u001b[0m\u001b[31;49m23.3.1\u001b[0m\u001b[39;49m -> \u001b[0m\u001b[32;49m24.0\u001b[0m\n",
      "\u001b[1m[\u001b[0m\u001b[34;49mnotice\u001b[0m\u001b[1;39;49m]\u001b[0m\u001b[39;49m To update, run: \u001b[0m\u001b[32;49mpython3.11 -m pip install --upgrade pip\u001b[0m\n",
      "Note: you may need to restart the kernel to use updated packages.\n"
     ]
    }
   ],
   "source": [
    "pip install pyGithub"
   ]
  },
  {
   "cell_type": "code",
   "execution_count": 6,
   "metadata": {},
   "outputs": [],
   "source": [
    "import os\n",
    "from github import Github\n",
    "import base64"
   ]
  },
  {
   "cell_type": "code",
   "execution_count": 8,
   "metadata": {},
   "outputs": [
    {
     "name": "stdout",
     "output_type": "stream",
     "text": [
      "AutoGPT\n",
      "javascript\n",
      "30-seconds-of-code\n",
      "axios\n",
      "node\n"
     ]
    },
    {
     "name": "stderr",
     "output_type": "stream",
     "text": [
      "Request GET /repos/nodejs/node/contents/benchmark/abort_controller failed with 403: Forbidden\n",
      "Setting next backoff to 3566.126566s\n"
     ]
    },
    {
     "name": "stdout",
     "output_type": "stream",
     "text": [
      "three.js\n"
     ]
    },
    {
     "name": "stderr",
     "output_type": "stream",
     "text": [
      "Request GET /repos/mrdoob/three.js/contents/ failed with 403: Forbidden\n",
      "Setting next backoff to 1907.235309s\n"
     ]
    }
   ],
   "source": [
    "# github에서 특정 파일 스크래핑\n",
    "# credential 입력 후 저장소 선택 query 지정\n",
    "username = \"uj453541@gmail.com\"\n",
    "password = \"\"\n",
    "g = Github(username, password)\n",
    "# 반복이 끝나면 모든 자바스크립트 파일을 하나의 디렉터리로 이동\n",
    "target_dir = \"./JavascriptSamples\"\n",
    "repositories = g.search_repositories(query=\"language:javascript\")\n",
    "# 기준에 맞는 저장소에 대하여 반복\n",
    "n = 5\n",
    "i = 0\n",
    "for repo in repositories:\n",
    "    reponame = repo.name\n",
    "    target_dir_of_repo = target_dir + \"\\\\\" + reponame\n",
    "    print(reponame)\n",
    "    try:\n",
    "# 검색 기준에 맞는 각 저장소에 대한 디렉터리를 만들고, 저장소의 contents 읽기        \n",
    "        os.mkdir(target_dir_of_repo)\n",
    "        i += 1\n",
    "        contents = repo.get_contents(\"\")\n",
    "# 저장소의 모든 디렉터리를 추가하고 디렉터리에 있는 모든 파일을 열거하여 대기열에 추가        \n",
    "        while len(contents) > 1:\n",
    "            file_content = contents.pop(0)\n",
    "            if file_content.type == \"dir\":\n",
    "                contents.extend(repo.get_contents(file_content.path))\n",
    "            else:\n",
    "# 디렉터리가 아닌 파일을 찾게되면 파일 확장자가 .js인지 확인\n",
    "                st = str(file_content)\n",
    "                filename = st.split('\"')[1].split('\"')[0]\n",
    "                extension = filename.split(\".\")[-1]\n",
    "                if extension == \"js\":\n",
    "# 확장자가 .js이면 파일 복사본을 만듦\n",
    "                    filecontents = repo.get_contents(file_content.path)\n",
    "                    file_data = base64.b64decode(filecontents.content)\n",
    "                    filename = filename.split(\"/\")[-1]\n",
    "                    file_out = open(target_dir_of_repo + \"/\" + filename, \"wb\")\n",
    "                    file_out.write(file_data)\n",
    "    except:\n",
    "        pass\n",
    "    if i == n:\n",
    "        break"
   ]
  },
  {
   "cell_type": "code",
   "execution_count": null,
   "metadata": {},
   "outputs": [],
   "source": []
  }
 ],
 "metadata": {
  "kernelspec": {
   "display_name": "Python 3",
   "language": "python",
   "name": "python3"
  },
  "language_info": {
   "codemirror_mode": {
    "name": "ipython",
    "version": 3
   },
   "file_extension": ".py",
   "mimetype": "text/x-python",
   "name": "python",
   "nbconvert_exporter": "python",
   "pygments_lexer": "ipython3",
   "version": "3.12.2"
  }
 },
 "nbformat": 4,
 "nbformat_minor": 4
}
